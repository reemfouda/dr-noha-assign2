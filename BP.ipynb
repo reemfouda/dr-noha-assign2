{
 "cells": [
  {
   "cell_type": "code",
   "execution_count": 12,
   "id": "ba3d30a6",
   "metadata": {},
   "outputs": [],
   "source": [
    "import math"
   ]
  },
  {
   "cell_type": "code",
   "execution_count": 14,
   "id": "3ddc568b",
   "metadata": {},
   "outputs": [
    {
     "name": "stdout",
     "output_type": "stream",
     "text": [
      "Forward Pass Values:\n",
      "out_h1: 0.5932699921071872, out_h2: 0.596884378259767\n",
      "out_o1: 0.7513650695523157, out_o2: 0.7729284653214625\n",
      "Total Error: 0.2983711087600027\n",
      "\n",
      "Updated Weights After Backward Pass:\n",
      "w1: 0.1497807161327628, w2: 0.19956143226552567, w3: 0.24975114363236958, w4: 0.29950228726473915\n",
      "w5: 0.35891647971788465, w6: 0.4086661860762334, w7: 0.5113012702387375, w8: 0.5613701211079891\n"
     ]
    }
   ],
   "source": [
    "def sigmoid(x):\n",
    "    return 1 / (1 + math.exp(-x))\n",
    "\n",
    "def sigmoid_derivative(x):\n",
    "    return x * (1 - x)\n",
    "\n",
    "i1, i2 = 0.05, 0.1\n",
    "\n",
    "w1, w2, w3, w4 = 0.15, 0.20, 0.25, 0.30\n",
    "w5, w6, w7, w8 = 0.40, 0.45, 0.50, 0.55\n",
    "b1, b2 = 0.35, 0.60\n",
    "target_o1, target_o2 = 0.01, 0.99\n",
    "eta = 0.5\n",
    "\n",
    "net_h1 = w1 * i1 + w2 * i2 + b1\n",
    "out_h1 = sigmoid(net_h1)\n",
    "\n",
    "net_h2 = w3 * i1 + w4 * i2 + b1\n",
    "out_h2 = sigmoid(net_h2)\n",
    "\n",
    "net_o1 = w5 * out_h1 + w6 * out_h2 + b2\n",
    "out_o1 = sigmoid(net_o1)\n",
    "\n",
    "net_o2 = w7 * out_h1 + w8 * out_h2 + b2\n",
    "out_o2 = sigmoid(net_o2)\n",
    "\n",
    "E_total_o1 = 0.5 * (target_o1 - out_o1) ** 2\n",
    "E_total_o2 = 0.5 * (target_o2 - out_o2) ** 2\n",
    "E_total = E_total_o1 + E_total_o2\n",
    "\n",
    "print(\"Forward Pass Values:\")\n",
    "print(f\"out_h1: {out_h1}, out_h2: {out_h2}\")\n",
    "print(f\"out_o1: {out_o1}, out_o2: {out_o2}\")\n",
    "print(f\"Total Error: {E_total}\")\n",
    "\n",
    "d_E_total_out_o1 = -(target_o1 - out_o1)\n",
    "d_E_total_out_o2 = -(target_o2 - out_o2)\n",
    "\n",
    "d_out_o1_net_o1 = sigmoid_derivative(out_o1)\n",
    "d_out_o2_net_o2 = sigmoid_derivative(out_o2)\n",
    "\n",
    "d_net_o1_w5 = out_h1\n",
    "d_net_o1_w6 = out_h2\n",
    "d_net_o2_w7 = out_h1\n",
    "d_net_o2_w8 = out_h2\n",
    "\n",
    "d_E_total_w5 = d_E_total_out_o1 * d_out_o1_net_o1 * d_net_o1_w5\n",
    "d_E_total_w6 = d_E_total_out_o1 * d_out_o1_net_o1 * d_net_o1_w6\n",
    "d_E_total_w7 = d_E_total_out_o2 * d_out_o2_net_o2 * d_net_o2_w7\n",
    "d_E_total_w8 = d_E_total_out_o2 * d_out_o2_net_o2 * d_net_o2_w8\n",
    "\n",
    "w5_new = w5 - eta * d_E_total_w5\n",
    "w6_new = w6 - eta * d_E_total_w6\n",
    "w7_new = w7 - eta * d_E_total_w7\n",
    "w8_new = w8 - eta * d_E_total_w8\n",
    "\n",
    "d_out_h1_net_h1 = sigmoid_derivative(out_h1)\n",
    "d_out_h2_net_h2 = sigmoid_derivative(out_h2)\n",
    "\n",
    "d_net_h1_w1 = i1\n",
    "d_net_h1_w2 = i2\n",
    "d_net_h2_w3 = i1\n",
    "d_net_h2_w4 = i2\n",
    "\n",
    "d_E_total_w1= ((d_E_total_out_o1*d_out_o1_net_o1 * w5) + (d_E_total_out_o2*d_out_o2_net_o2 * w7))*d_out_h1_net_h1 * d_net_h1_w1\n",
    "d_E_total_w2= ((d_E_total_out_o1*d_out_o1_net_o1 * w5) + (d_E_total_out_o2*d_out_o2_net_o2 * w7))*d_out_h1_net_h1 * d_net_h1_w2\n",
    "d_E_total_w3= ((d_E_total_out_o1*d_out_o1_net_o1 * w6) + (d_E_total_out_o2*d_out_o2_net_o2 * w8))*d_out_h2_net_h2 * d_net_h2_w3\n",
    "d_E_total_w4= ((d_E_total_out_o1*d_out_o1_net_o1 * w6) + (d_E_total_out_o2*d_out_o2_net_o2 * w8))*d_out_h2_net_h2 * d_net_h2_w4\n",
    "\n",
    "w1_new = w1 - eta * d_E_total_w1\n",
    "w2_new = w2 - eta * d_E_total_w2\n",
    "w3_new = w3 - eta * d_E_total_w3\n",
    "w4_new = w4 - eta * d_E_total_w4\n",
    "\n",
    "w1, w2, w3, w4 = w1_new, w2_new, w3_new, w4_new\n",
    "w5, w6, w7, w8 = w5_new, w6_new, w7_new, w8_new\n",
    "\n",
    "print(\"\\nUpdated Weights After Backward Pass:\")\n",
    "print(f\"w1: {w1}, w2: {w2}, w3: {w3}, w4: {w4}\")\n",
    "print(f\"w5: {w5}, w6: {w6}, w7: {w7}, w8: {w8}\")"
   ]
  },
  {
   "cell_type": "code",
   "execution_count": null,
   "id": "671dd172",
   "metadata": {},
   "outputs": [],
   "source": []
  }
 ],
 "metadata": {
  "kernelspec": {
   "display_name": "Python 3 (ipykernel)",
   "language": "python",
   "name": "python3"
  },
  "language_info": {
   "codemirror_mode": {
    "name": "ipython",
    "version": 3
   },
   "file_extension": ".py",
   "mimetype": "text/x-python",
   "name": "python",
   "nbconvert_exporter": "python",
   "pygments_lexer": "ipython3",
   "version": "3.11.5"
  }
 },
 "nbformat": 4,
 "nbformat_minor": 5
}
